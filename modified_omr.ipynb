{
 "cells": [
  {
   "cell_type": "code",
   "execution_count": null,
   "id": "7f7578dc",
   "metadata": {
    "id": "7f7578dc"
   },
   "outputs": [],
   "source": [
    "#importing necessary libraries\n",
    "import cv2\n",
    "import numpy as np\n",
    "import matplotlib.pyplot as plt"
   ]
  },
  {
   "cell_type": "code",
   "execution_count": null,
   "id": "bc74b871",
   "metadata": {
    "id": "bc74b871"
   },
   "outputs": [],
   "source": [
    "path= \"sheet2.jpg\"\n",
    "heightImg = 700\n",
    "widthImg  = 700\n",
    "\n",
    "#Reading the original image\n",
    "img=cv2.imread(path)\n",
    "imgBlank = np.zeros((heightImg,widthImg, 3), np.uint8) # CREATE A BLANK IMAGE FOR TESTING DEBUGGING IF REQUIRED\n",
    "#imgBigContour = img.copy() # COPY IMAGE FOR DISPLAY PURPOSES\n",
    "#Resizing the image\n",
    "img=cv2.resize(img,(widthImg,heightImg))"
   ]
  },
  {
   "cell_type": "code",
   "execution_count": null,
   "id": "4c0c6b46",
   "metadata": {
    "id": "4c0c6b46",
    "outputId": "7a2adeed-efc1-4a0b-90b7-d821e2bd88fe"
   },
   "outputs": [],
   "source": [
    "#Display image using matplotlib\n",
    "plt.imshow(img)\n",
    "plt.show()"
   ]
  },
  {
   "cell_type": "code",
   "execution_count": null,
   "id": "b267c058",
   "metadata": {
    "id": "b267c058"
   },
   "outputs": [],
   "source": [
    "#Display image using opencv\n",
    "cv2.imshow(\"Original\",img)\n",
    "cv2.waitKey(0)\n",
    "cv2.destroyAllWindows()"
   ]
  },
  {
   "cell_type": "code",
   "execution_count": null,
   "id": "83eda73c",
   "metadata": {
    "id": "83eda73c"
   },
   "outputs": [],
   "source": [
    "##################################IMAGE PREPROCESSING##################################################################"
   ]
  },
  {
   "cell_type": "code",
   "execution_count": null,
   "id": "029a1e82",
   "metadata": {
    "id": "029a1e82",
    "outputId": "a553c48b-785a-4c8e-80e4-2460952e2220"
   },
   "outputs": [],
   "source": [
    "#CONVERT IMAGE TO GRAYSCALE\n",
    "imgGray = cv2.cvtColor(img, cv2.COLOR_BGR2GRAY)\n",
    "plt.imshow(imgGray)\n",
    "plt.title(\"Grayscale Image\")\n",
    "plt.show()"
   ]
  },
  {
   "cell_type": "code",
   "execution_count": null,
   "id": "82ab7a4e",
   "metadata": {
    "id": "82ab7a4e",
    "outputId": "e04c2144-65b4-4868-96b0-2d0591035330"
   },
   "outputs": [],
   "source": [
    "#APPLYING GAUSSIAN BLUR\n",
    "imgBlur = cv2.GaussianBlur(imgGray, (5, 5), 1)\n",
    "plt.imshow(imgBlur)\n",
    "plt.title(\"Blurred Image\")\n",
    "plt.show()"
   ]
  },
  {
   "cell_type": "code",
   "execution_count": null,
   "id": "af54cafd",
   "metadata": {
    "id": "af54cafd",
    "outputId": "85686a04-e33b-436d-df56-3995c94afd14"
   },
   "outputs": [],
   "source": [
    "# APPLY CANNY EDGE DETECTION\n",
    "imgCanny = cv2.Canny(imgBlur,10,70)\n",
    "plt.imshow(imgCanny)\n",
    "plt.title(\"Edges\")\n",
    "plt.show()"
   ]
  },
  {
   "cell_type": "code",
   "execution_count": null,
   "id": "77c32c28",
   "metadata": {
    "id": "77c32c28",
    "outputId": "649c310a-9e03-4a90-b363-4769f1d6b21f"
   },
   "outputs": [],
   "source": [
    "#IMAGE CONTOURING\n",
    "imgContours = img.copy() # COPY IMAGE FOR DISPLAY PURPOSES\n",
    "contours, hierarchy = cv2.findContours(imgCanny, cv2.RETR_EXTERNAL, cv2.CHAIN_APPROX_NONE) # FIND ALL CONTOURS\n",
    "cv2.drawContours(imgContours, contours, -100, (0, 255, 0), 10) # DRAW ALL DETECTED CONTOURS\n",
    "cv2.imshow(\"contours\",imgContours)\n",
    "cv2.waitKey(0)\n",
    "cv2.destroyAllWindows()\n",
    "plt.imshow(imgContours)\n",
    "plt.title(\"Contours\")\n",
    "plt.show()"
   ]
  },
  {
   "cell_type": "code",
   "execution_count": null,
   "id": "0ccc8ee1",
   "metadata": {
    "id": "0ccc8ee1"
   },
   "outputs": [],
   "source": [
    "#function for stacking preprocessed images\n",
    "def stackImages(imgArray,scale,lables=[]):\n",
    "    rows = len(imgArray)\n",
    "    cols = len(imgArray[0])\n",
    "    rowsAvailable = isinstance(imgArray[0], list)\n",
    "    width = imgArray[0][0].shape[1]\n",
    "    height = imgArray[0][0].shape[0]\n",
    "    if rowsAvailable:\n",
    "        for x in range ( 0, rows):\n",
    "            for y in range(0, cols):\n",
    "                imgArray[x][y] = cv2.resize(imgArray[x][y], (0, 0), None, scale, scale)\n",
    "                if len(imgArray[x][y].shape) == 2: imgArray[x][y]= cv2.cvtColor( imgArray[x][y], cv2.COLOR_GRAY2BGR)\n",
    "        imageBlank = np.zeros((height, width, 3), np.uint8)\n",
    "        hor = [imageBlank]*rows\n",
    "        hor_con = [imageBlank]*rows\n",
    "        for x in range(0, rows):\n",
    "            hor[x] = np.hstack(imgArray[x])\n",
    "            hor_con[x] = np.concatenate(imgArray[x])\n",
    "        ver = np.vstack(hor)\n",
    "        ver_con = np.concatenate(hor)\n",
    "    else:\n",
    "        for x in range(0, rows):\n",
    "            imgArray[x] = cv2.resize(imgArray[x], (0, 0), None, scale, scale)\n",
    "            if len(imgArray[x].shape) == 2: imgArray[x] = cv2.cvtColor(imgArray[x], cv2.COLOR_GRAY2BGR)\n",
    "        hor= np.hstack(imgArray)\n",
    "        hor_con= np.concatenate(imgArray)\n",
    "        ver = hor\n",
    "    if len(lables) != 0:\n",
    "        eachImgWidth= int(ver.shape[1] / cols)\n",
    "        eachImgHeight = int(ver.shape[0] / rows)\n",
    "        #print(eachImgHeight)\n",
    "        for d in range(0, rows):\n",
    "            for c in range (0,cols):\n",
    "                cv2.rectangle(ver,(c*eachImgWidth,eachImgHeight*d),(c*eachImgWidth+len(lables[d][c])*13+27,30+eachImgHeight*d),(255,255,255),cv2.FILLED)\n",
    "                cv2.putText(ver,lables[d][c],(eachImgWidth*c+10,eachImgHeight*d+20),cv2.FONT_HERSHEY_COMPLEX,0.7,(255,0,255),2)\n",
    "    return ver"
   ]
  },
  {
   "cell_type": "code",
   "execution_count": null,
   "id": "5811399d",
   "metadata": {
    "id": "5811399d"
   },
   "outputs": [],
   "source": [
    "#DISPLAYING STACKED IMAGES\n",
    "imageArray = ([img,imgGray,imgBlur],\n",
    "              [imgCanny,imgContours,imgBlank])\n",
    "\n",
    " # LABELS FOR DISPLAY\n",
    "lables = [[\"Original\",\"Gray\",\"Blur\"],\n",
    "           [\"Edges\",\"Contours\",\"Blank\"]]\n",
    "\n",
    "stackedImage = stackImages(imageArray,0.5,lables)\n",
    "cv2.imshow(\"Result\",stackedImage)\n",
    "cv2.waitKey(0)\n",
    "cv2.destroyAllWindows()"
   ]
  },
  {
   "cell_type": "code",
   "execution_count": null,
   "id": "bb821b32",
   "metadata": {
    "id": "bb821b32",
    "outputId": "9078bea7-76ac-4490-9b50-0782efcf1169"
   },
   "outputs": [],
   "source": [
    "plt.imshow(stackedImage)\n",
    "plt.title(\"RESULT\")\n",
    "plt.show()"
   ]
  },
  {
   "cell_type": "code",
   "execution_count": null,
   "id": "3a1f8618",
   "metadata": {
    "id": "3a1f8618",
    "outputId": "b253617e-d459-4f35-8ca0-e73fa622bb66"
   },
   "outputs": [],
   "source": [
    "#DETECTING RECTANGLES\n",
    "def rectContour(contours):\n",
    "    #max_area = 0\n",
    "    print(\"Area :\")\n",
    "    for i in contours:\n",
    "        area=cv2.contourArea(i)\n",
    "        print(area)\n",
    "#PRINTING THE AREA OF THE RECTANGLES\n",
    "rectCon = rectContour(contours) # FILTER FOR RECTANGLE CONTOURS"
   ]
  },
  {
   "cell_type": "code",
   "execution_count": null,
   "id": "336e234c",
   "metadata": {
    "id": "336e234c"
   },
   "outputs": [],
   "source": [
    "def rectContour(contours):\n",
    "\n",
    "    rectCon = []\n",
    "    max_area = 0\n",
    "    for i in contours:\n",
    "        area = cv2.contourArea(i)\n",
    "        if area > 50:\n",
    "            peri = cv2.arcLength(i, True)\n",
    "            approx = cv2.approxPolyDP(i, 0.02 * peri, True)\n",
    "            print(\"Corner Points :\",approx)\n",
    "            if len(approx) == 4:\n",
    "                rectCon.append(i)\n",
    "    rectCon = sorted(rectCon, key=cv2.contourArea,reverse=True)\n",
    "    #print(len(rectCon))\n",
    "    return rectCon"
   ]
  },
  {
   "cell_type": "code",
   "execution_count": null,
   "id": "92e250cb",
   "metadata": {
    "id": "92e250cb",
    "outputId": "82d9f070-49f5-41fa-ba78-d05e4bf214ac"
   },
   "outputs": [],
   "source": [
    "#PRINTING THE AREA OF THE RECTANGLES\n",
    "rectCon = rectContour(contours) # FILTER FOR RECTANGLE CONTOURS\n",
    "#biggestPoints= getCornerPoints(rectCon[0]) # GET CORNER POINTS OF THE BIGGEST RECTANGLE\n",
    "#gradePoints = getCornerPoints(rectCon[0]) # GET CORNER POINTS OF THE SECOND BIGGEST RECTANGLE\n",
    "#print(len(rectCon))"
   ]
  },
  {
   "cell_type": "code",
   "execution_count": null,
   "id": "b1495596",
   "metadata": {
    "executionInfo": {
     "elapsed": 455,
     "status": "ok",
     "timestamp": 1707455824719,
     "user": {
      "displayName": "Dhanwika Nayak",
      "userId": "15060435876309899496"
     },
     "user_tz": -330
    },
    "id": "b1495596"
   },
   "outputs": [],
   "source": [
    "print(len(rectCon))"
   ]
  },
  {
   "cell_type": "code",
   "execution_count": null,
   "id": "b14547a3",
   "metadata": {
    "id": "b14547a3"
   },
   "outputs": [],
   "source": [
    "#PRINTING THE AREA OF THE RECTANGLES\n",
    "imgBigContour = img.copy() # COPY IMAGE FOR DISPLAY PURPOSES\n",
    "rectCon = rectContour(contours) # FILTER FOR RECTANGLE CONTOURS\n",
    "biggestPoints= getCornerPoints(rectCon[0]) # GET CORNER POINTS OF THE BIGGEST RECTANGLE\n",
    "gradePoints = getCornerPoints(rectCon[0]) # GET CORNER POINTS OF THE SECOND BIGGEST RECTANGLE\n",
    "#print(len(rectCon))"
   ]
  },
  {
   "cell_type": "code",
   "execution_count": null,
   "id": "GFhiyFI8S-5N",
   "metadata": {
    "id": "GFhiyFI8S-5N"
   },
   "outputs": [],
   "source": [
    "def reorder(myPoints):\n",
    "\n",
    "    myPoints = myPoints.reshape((4, 2)) # REMOVE EXTRA BRACKET\n",
    "    print(myPoints)\n",
    "    myPointsNew = np.zeros((4, 1, 2), np.int32) # NEW MATRIX WITH ARRANGED POINTS\n",
    "    add = myPoints.sum(1)\n",
    "    #print(add)\n",
    "    #print(np.argmax(add))\n",
    "    myPointsNew[0] = myPoints[np.argmin(add)]  #[0,0]\n",
    "    myPointsNew[3] =myPoints[np.argmax(add)]   #[w,h]\n",
    "    diff = np.diff(myPoints, axis=1)\n",
    "    myPointsNew[1] =myPoints[np.argmin(diff)]  #[w,0]\n",
    "    myPointsNew[2] = myPoints[np.argmax(diff)] #[h,0]\n",
    "    #print(diff)\n",
    "    return myPointsNew\n"
   ]
  },
  {
   "cell_type": "code",
   "execution_count": null,
   "id": "30b7b4a5",
   "metadata": {},
   "outputs": [],
   "source": [
    "def getCornerPoints(cont):\n",
    "    peri = cv2.arcLength(cont, True) # LENGTH OF CONTOUR\n",
    "    approx = cv2.approxPolyDP(cont, 0.02 * peri, True) # APPROXIMATE THE POLY TO GET CORNER POINTS\n",
    "    return approx"
   ]
  },
  {
   "cell_type": "code",
   "execution_count": null,
   "id": "52a4f7b7",
   "metadata": {},
   "outputs": [],
   "source": [
    "def splitBoxes(img):\n",
    "    rows = np.vsplit(img,5)\n",
    "    boxes=[]\n",
    "    for r in rows:\n",
    "        cols= np.hsplit(r,5)\n",
    "        for box in cols:\n",
    "            boxes.append(box)\n",
    "    return boxes"
   ]
  },
  {
   "cell_type": "code",
   "execution_count": null,
   "id": "b43d5440",
   "metadata": {
    "id": "b43d5440"
   },
   "outputs": [],
   "source": [
    "biggestPoints= getCornerPoints(rectCon[0]) # GET CORNER POINTS OF THE BIGGEST RECTANGLE\n",
    "gradePoints = getCornerPoints(rectCon[0]) # GET CORNER POINTS OF THE SECOND BIGGEST RECTANGLE\n",
    "if biggestPoints.size != 0 and gradePoints.size != 0:\n",
    "\n",
    "            # BIGGEST RECTANGLE WARPING\n",
    "            biggestPoints=reorder(biggestPoints) # REORDER FOR WARPING\n",
    "            cv2.drawContours(imgBigContour, biggestPoints, -1, (0, 255, 0), 20) # DRAW THE BIGGEST CONTOUR\n",
    "            pts1 = np.float32(biggestPoints) # PREPARE POINTS FOR WARP\n",
    "            pts2 = np.float32([[0, 0],[widthImg, 0], [0, heightImg],[widthImg, heightImg]]) # PREPARE POINTS FOR WARP\n",
    "            matrix = cv2.getPerspectiveTransform(pts1, pts2) # GET TRANSFORMATION MATRIX\n",
    "            imgWarpColored = cv2.warpPerspective(img, matrix, (widthImg, heightImg)) # APPLY WARP PERSPECTIVE\n",
    "            \n",
    "             # SECOND BIGGEST RECTANGLE WARPING\n",
    "            cv2.drawContours(imgBigContour, gradePoints, -1, (255, 0, 0), 20) # DRAW THE BIGGEST CONTOUR\n",
    "            gradePoints = reorder(gradePoints) # REORDER FOR WARPING\n",
    "            ptsG1 = np.float32(gradePoints)  # PREPARE POINTS FOR WARP\n",
    "            ptsG2 = np.float32([[0, 0], [325, 0], [0, 150], [325, 150]])  # PREPARE POINTS FOR WARP\n",
    "            matrixG = cv2.getPerspectiveTransform(ptsG1, ptsG2)# GET TRANSFORMATION MATRIX\n",
    "            imgGradeDisplay = cv2.warpPerspective(img, matrixG, (325, 150)) # APPLY WARP PERSPECTIVE\n",
    "            \n",
    "            # APPLY THRESHOLD\n",
    "            imgWarpGray = cv2.cvtColor(imgWarpColored,cv2.COLOR_BGR2GRAY) # CONVERT TO GRAYSCALE\n",
    "            imgThresh = cv2.threshold(imgWarpGray, 170, 255,cv2.THRESH_BINARY_INV )[1] # APPLY THRESHOLD AND INVERSE\n",
    "\n",
    "            boxes = splitBoxes(imgThresh) # GET INDIVIDUAL BOXES\n",
    "            cv2.imshow(\"Split Test \", boxes[3])\n",
    "            countR=0\n",
    "            countC=0\n",
    "            myPixelVal = np.zeros((questions,choices)) # TO STORE THE NON ZERO VALUES OF EACH BOX\n",
    "            for image in boxes:\n",
    "                #cv2.imshow(str(countR)+str(countC),image)\n",
    "                totalPixels = cv2.countNonZero(image)\n",
    "                myPixelVal[countR][countC]= totalPixels\n",
    "                countC += 1\n",
    "                if (countC==choices):countC=0;countR +=1"
   ]
  },
  {
   "cell_type": "code",
   "execution_count": null,
   "id": "d284bbff",
   "metadata": {},
   "outputs": [],
   "source": [
    "plt.imshow(\"Split Test \", boxes[3])\n",
    "plt.show()"
   ]
  },
  {
   "cell_type": "code",
   "execution_count": null,
   "id": "8ce956b3",
   "metadata": {},
   "outputs": [],
   "source": []
  }
 ],
 "metadata": {
  "colab": {
   "provenance": []
  },
  "kernelspec": {
   "display_name": "Python 3 (ipykernel)",
   "language": "python",
   "name": "python3"
  },
  "language_info": {
   "codemirror_mode": {
    "name": "ipython",
    "version": 3
   },
   "file_extension": ".py",
   "mimetype": "text/x-python",
   "name": "python",
   "nbconvert_exporter": "python",
   "pygments_lexer": "ipython3",
   "version": "3.9.7"
  }
 },
 "nbformat": 4,
 "nbformat_minor": 5
}
